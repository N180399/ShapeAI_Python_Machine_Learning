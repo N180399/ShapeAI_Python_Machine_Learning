{
  "nbformat": 4,
  "nbformat_minor": 0,
  "metadata": {
    "colab": {
      "provenance": [],
      "collapsed_sections": []
    },
    "kernelspec": {
      "name": "python3",
      "display_name": "Python 3"
    },
    "language_info": {
      "name": "python"
    }
  },
  "cells": [
    {
      "cell_type": "code",
      "execution_count": null,
      "metadata": {
        "id": "dyKzpsbXsIbH"
      },
      "outputs": [],
      "source": [
        "import numpy as np\n",
        "import pandas as pd\n",
        "import sklearn\n",
        "from sklearn.datasets import load_boston\n",
        "df=load_boston()\n",
        "df.keys()\n",
        "print(df.DESCR)\n",
        "print(df.feature_names)\n",
        "print(df.filename)\n",
        "print(df.target)\n",
        "boston =pd.DataFrame(df.data,columns=df.feature_names)\n",
        "boston.head()\n",
        "boston['MEDV']=df.target\n",
        "boston.head()\n",
        "boston.isnull()\n",
        "boston.isnull().sum()\n",
        "\n"
      ]
    },
    {
      "cell_type": "code",
      "source": [
        "from sklearn.model_selection import train_test_split\n",
        "x=boston.drop('MEDV',axis=1)\n",
        "y=boston['MEDV']\n",
        "x_train,x_test,y_train,y_test= train_test_split(x,y,test_size=0.15,random_state=5)\n",
        "print(x_train.shape)\n",
        "print(x_test.shape)\n",
        "print(y_train.shape)\n",
        "print(y_test.shape)"
      ],
      "metadata": {
        "colab": {
          "base_uri": "https://localhost:8080/"
        },
        "id": "PXEr0EFnwi9S",
        "outputId": "67e15672-a2fc-4b0c-9706-3572550581cb"
      },
      "execution_count": 28,
      "outputs": [
        {
          "output_type": "stream",
          "name": "stdout",
          "text": [
            "(430, 13)\n",
            "(76, 13)\n",
            "(430,)\n",
            "(76,)\n"
          ]
        }
      ]
    },
    {
      "cell_type": "code",
      "source": [
        "from sklearn.linear_model import LinearRegression\n",
        "from sklearn.metrics import mean_squared_error\n",
        "lin_model=LinearRegression()\n",
        "lin_model.fit(x_train,y_train)"
      ],
      "metadata": {
        "colab": {
          "base_uri": "https://localhost:8080/"
        },
        "id": "fS4Ok0ddz4Ve",
        "outputId": "875dd5b0-7cdc-4932-b81d-cfc6ab5c7c1a"
      },
      "execution_count": 29,
      "outputs": [
        {
          "output_type": "execute_result",
          "data": {
            "text/plain": [
              "LinearRegression()"
            ]
          },
          "metadata": {},
          "execution_count": 29
        }
      ]
    },
    {
      "cell_type": "code",
      "source": [
        "y_train_predict=lin_model.predict(x_train)\n",
        "rmse=(np.sqrt(mean_squared_error(y_train,y_train_predict)))\n",
        "print(\"The model performance for training set\")\n",
        "print('RMSE is{}'.format(rmse))\n",
        "print(\"/n\")\n",
        "y_test_predict=lin_model.predict(x_test)\n",
        "rmse=(np.sqrt(mean_squared_error(y_test,y_test_predict)))\n",
        "print(\"The model performance for training set\")\n",
        "print('RMSE is{}'.format(rmse))\n"
      ],
      "metadata": {
        "id": "pd1nY1qU1NhG"
      },
      "execution_count": null,
      "outputs": []
    }
  ]
}